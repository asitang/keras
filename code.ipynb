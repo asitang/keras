{
 "cells": [
  {
   "cell_type": "markdown",
   "metadata": {},
   "source": [
    "This is an auto-generated keras model code."
   ]
  },
  {
   "cell_type": "code",
   "execution_count": 1,
   "metadata": {},
   "outputs": [
    {
     "name": "stderr",
     "output_type": "stream",
     "text": [
      "Using TensorFlow backend.\n"
     ]
    },
    {
     "name": "stderr",
     "output_type": "stream",
     "text": [
      "/Users/asitangm/nn/lib/python2.7/site-packages/keras/engine/topology.py:368: UserWarning: The `regularizers` property of layers/models is deprecated. Regularization losses are now managed via the `losses` layer/model property.\n",
      "  warnings.warn('The `regularizers` property of '\n"
     ]
    }
   ],
   "source": [
    "from keras.layers import Convolution2D, MaxPooling2D, Flatten\n",
    "from keras.layers import Input, LSTM, Embedding, Dense, merge\n",
    "from keras.models import Model, Sequential\n",
    "from keras.utils.visualize_util import plot\n",
    "from keras.layers import TimeDistributed\n",
    "\n",
    "textinput1 = Input(shape=(100,), dtype='int32')\n",
    "embedlayer1 = Embedding(input_dim=10000,output_dim=256,input_length=100)(textinput1)\n",
    "lstmlayer1 = LSTM(256)(embedlayer1)\n",
    "\n",
    "\n",
    "\n",
    "\n",
    "\n",
    "\n",
    "\n",
    "\n",
    "\n",
    "\n",
    "imageinput1 = Input(shape=(3, 224, 224))\n",
    "convolayer1 = Convolution2D(64, 3, 3, activation='relu', border_mode='same', dim_ordering='th')(imageinput1)\n",
    "convolayer2 = Convolution2D(64, 3, 3, activation='relu', border_mode='same', dim_ordering='th')(convolayer1)\n",
    "maxpoollayer1 = MaxPooling2D((2, 2),dim_ordering=\"th\")(convolayer2)\n",
    "convolayer3 = Convolution2D(64, 3, 3, activation='relu', border_mode='same', dim_ordering='th')(maxpoollayer1)\n",
    "convolayer4 = Convolution2D(64, 3, 3, activation='relu', border_mode='same', dim_ordering='th')(convolayer3)\n",
    "maxpoollayer2 = MaxPooling2D((2, 2),dim_ordering=\"th\")(convolayer4)\n",
    "convolayer5 = Convolution2D(64, 3, 3, activation='relu', border_mode='same', dim_ordering='th')(maxpoollayer2)\n",
    "convolayer6 = Convolution2D(64, 3, 3, activation='relu', border_mode='same', dim_ordering='th')(convolayer5)\n",
    "convolayer7 = Convolution2D(64, 3, 3, activation='relu', border_mode='same', dim_ordering='th')(convolayer6)\n",
    "maxpoollayer3 = MaxPooling2D((2, 2),dim_ordering=\"th\")(convolayer7)\n",
    "flatten1 = Flatten()(maxpoollayer3)\n",
    "\n",
    "\n",
    "\n",
    "textmod = Model(output = lstmlayer1 ,input = [textinput1])\n",
    "textinput2 = Input(shape=(100,), dtype='int32')\n",
    "usetextmod = textmod(textinput2)\n",
    "\n",
    "\n",
    "videoinput1 = Input(shape=(100,3,224,224))\n",
    "\n",
    "\n",
    "imagemod = Model(output = flatten1 ,input = [imageinput1])\n",
    "useimagemod = imagemod\n",
    "timedistributelayer1 = TimeDistributed(useimagemod)(videoinput1)\n",
    "videncoded = LSTM(256)(timedistributelayer1)\n",
    "mergelayer2=merge([usetextmod,videncoded],mode='concat')\n",
    "denselayer2 = Dense(1000,activation='softmax')(mergelayer2)\n",
    "\n",
    "\n",
    "\n",
    "mergelayer1=merge([lstmlayer1,flatten1],mode='concat')\n",
    "denselayer1 = Dense(1000,activation='softmax')(mergelayer1)\n",
    "videomod=Model(output = denselayer2 ,input = [videoinput1,textinput2])\n",
    "textandimagemod=Model(output = denselayer1 ,input = [imageinput1,textinput1])\n",
    "plot(textmod, to_file = 'textmod.png', show_layer_names=True, show_shapes=True)\n",
    "plot(imagemod, to_file = 'imagemod.png', show_layer_names=True, show_shapes=True)\n",
    "plot(videomod, to_file = 'videomod.png', show_layer_names=True, show_shapes=True)\n",
    "plot(textandimagemod, to_file = 'textandimagemod.png', show_layer_names=True, show_shapes=True)"
   ]
  }
 ],
 "metadata": {},
 "nbformat": 4,
 "nbformat_minor": 2
}
